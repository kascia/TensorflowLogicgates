{
 "cells": [
  {
   "cell_type": "code",
   "execution_count": 66,
   "metadata": {
    "collapsed": false
   },
   "outputs": [],
   "source": [
    "import tensorflow as tf\n",
    "import numpy as np\n",
    "\n",
    "X = tf.placeholder(\"float\", [None,2]) \n",
    "Y = tf.placeholder(\"float\",[None,1])\n",
    "\n",
    "def init_weights(shape):\n",
    "    return tf.Variable(tf.random_normal(shape, stddev=0.01))\n",
    "\n",
    "def model(X, W, b):\n",
    "    return tf.add(tf.matmul(X, W), b) \n",
    "\n",
    "W = init_weights([2,1])\n",
    "b = init_weights([1])\n",
    "\n",
    "y_model = model(X, W, b)\n",
    "\n",
    "cost = tf.square(Y - y_model) \n",
    "pred = tf.add(tf.matmul(X, W), b) \n",
    "\n",
    "train_op = tf.train.GradientDescentOptimizer(0.01).minimize(cost) \n"
   ]
  },
  {
   "cell_type": "code",
   "execution_count": 67,
   "metadata": {
    "collapsed": false
   },
   "outputs": [],
   "source": [
    "trX = np.array([[0,0],[0,1],[1,0],[1,1]])\n",
    "trY_OR = np.array([[0],[1],[1],[1]])\n",
    "trY_AND = np.array([[0],[0],[0],[1]])\n",
    "trY_XNOR = np.array([[1],[0],[0],[1]])\n",
    "trY_NOR = np.array([[1],[0],[0],[0]])\n",
    "trY_NAND = np.array([[1],[1],[1],[0]])\n",
    "trY_XOR = np.array([[0],[1],[1],[0]])\n",
    "\n"
   ]
  },
  {
   "cell_type": "code",
   "execution_count": 68,
   "metadata": {
    "collapsed": false
   },
   "outputs": [
    {
     "name": "stdout",
     "output_type": "stream",
     "text": [
      "(4, 2)\n",
      "[array([[ 0.49999899],\n",
      "       [ 0.49999899]], dtype=float32), array([ 0.25000119], dtype=float32)]\n",
      "[[ 0.25000119]\n",
      " [ 0.75000018]\n",
      " [ 0.75000018]\n",
      " [ 1.24999917]]\n"
     ]
    }
   ],
   "source": [
    "# [0 1 1 1] \n",
    "with tf.Session() as sess:\n",
    "    tf.initialize_all_variables().run()\n",
    "    print(trX.shape)\n",
    "    for i in range(1000):\n",
    "        _,c = sess.run([train_op, cost], feed_dict={X: trX, Y: trY_OR})\n",
    "        ans = sess.run(pred, feed_dict={X:trX})\n",
    "    print(sess.run([W,b]))\n",
    "    print(ans)"
   ]
  },
  {
   "cell_type": "code",
   "execution_count": 69,
   "metadata": {
    "collapsed": false
   },
   "outputs": [
    {
     "name": "stdout",
     "output_type": "stream",
     "text": [
      "(4, 2)\n",
      "[array([[ 0.49999872],\n",
      "       [ 0.49999872]], dtype=float32), array([-0.24999844], dtype=float32)]\n",
      "[[-0.24999844]\n",
      " [ 0.2500003 ]\n",
      " [ 0.2500003 ]\n",
      " [ 0.74999899]]\n"
     ]
    }
   ],
   "source": [
    "# [0 0 0 1]\n",
    "with tf.Session() as sess:\n",
    "    tf.initialize_all_variables().run()\n",
    "    print(trX.shape)\n",
    "    for i in range(1000):\n",
    "        _,c = sess.run([train_op, cost], feed_dict={X: trX, Y: trY_AND})\n",
    "        ans = sess.run(pred, feed_dict={X:trX})\n",
    "    print(sess.run([W,b]))\n",
    "    print(ans)"
   ]
  },
  {
   "cell_type": "code",
   "execution_count": 70,
   "metadata": {
    "collapsed": false
   },
   "outputs": [
    {
     "name": "stdout",
     "output_type": "stream",
     "text": [
      "(4, 2)\n",
      "[array([[  6.45183263e-07],\n",
      "       [  6.45090495e-07]], dtype=float32), array([ 0.49999917], dtype=float32)]\n",
      "[[ 0.49999917]\n",
      " [ 0.49999982]\n",
      " [ 0.49999982]\n",
      " [ 0.50000048]]\n"
     ]
    }
   ],
   "source": [
    "# [0 1 1 0]\n",
    "with tf.Session() as sess:\n",
    "    tf.initialize_all_variables().run()\n",
    "    print(trX.shape)\n",
    "    for i in range(1000):\n",
    "        _,c = sess.run([train_op, cost], feed_dict={X: trX, Y: trY_XOR})\n",
    "        ans = sess.run(pred, feed_dict={X:trX})\n",
    "    print(sess.run([W,b]))\n",
    "    print(ans)"
   ]
  },
  {
   "cell_type": "code",
   "execution_count": 71,
   "metadata": {
    "collapsed": false
   },
   "outputs": [
    {
     "name": "stdout",
     "output_type": "stream",
     "text": [
      "(4, 2)\n",
      "[array([[  6.34816161e-07],\n",
      "       [  6.35073548e-07]], dtype=float32), array([ 0.4999992], dtype=float32)]\n",
      "[[ 0.4999992 ]\n",
      " [ 0.49999982]\n",
      " [ 0.49999982]\n",
      " [ 0.50000048]]\n"
     ]
    }
   ],
   "source": [
    "# [1 0 0 1]\n",
    "with tf.Session() as sess:\n",
    "    tf.initialize_all_variables().run()\n",
    "    print(trX.shape)\n",
    "    for i in range(1000):\n",
    "        _,c = sess.run([train_op, cost], feed_dict={X: trX, Y: trY_XNOR})\n",
    "        ans = sess.run(pred, feed_dict={X:trX})\n",
    "    print(sess.run([W,b]))\n",
    "    print(ans)"
   ]
  },
  {
   "cell_type": "code",
   "execution_count": 72,
   "metadata": {
    "collapsed": false
   },
   "outputs": [
    {
     "name": "stdout",
     "output_type": "stream",
     "text": [
      "(4, 2)\n",
      "[array([[-0.49999732],\n",
      "       [-0.49999732]], dtype=float32), array([ 1.24999654], dtype=float32)]\n",
      "[[ 1.24999654]\n",
      " [ 0.74999923]\n",
      " [ 0.74999923]\n",
      " [ 0.25000191]]\n"
     ]
    }
   ],
   "source": [
    "#[1 0 0 0]\n",
    "with tf.Session() as sess:\n",
    "    # you need to initialize variables (in this case just variable W)\n",
    "    tf.initialize_all_variables().run()\n",
    "    print(trX.shape)\n",
    "    for i in range(1000):\n",
    "        _,c = sess.run([train_op, cost], feed_dict={X: trX, Y: trY_NAND})\n",
    "        ans = sess.run(pred, feed_dict={X:trX})\n",
    "    print(sess.run([W,b]))\n",
    "    print(ans)"
   ]
  },
  {
   "cell_type": "code",
   "execution_count": 73,
   "metadata": {
    "collapsed": false
   },
   "outputs": [
    {
     "name": "stdout",
     "output_type": "stream",
     "text": [
      "(4, 2)\n",
      "[array([[-0.49999791],\n",
      "       [-0.49999791]], dtype=float32), array([ 0.74999756], dtype=float32)]\n",
      "[[ 0.74999756]\n",
      " [ 0.24999964]\n",
      " [ 0.24999964]\n",
      " [-0.24999827]]\n"
     ]
    }
   ],
   "source": [
    "#[1 1 1 0 ]\n",
    "with tf.Session() as sess:\n",
    "    # you need to initialize variables (in this case just variable W)\n",
    "    tf.initialize_all_variables().run()\n",
    "    print(trX.shape)\n",
    "    for i in range(1000):\n",
    "        _,c = sess.run([train_op, cost], feed_dict={X: trX, Y: trY_NOR})\n",
    "        ans = sess.run(pred, feed_dict={X:trX})\n",
    "    print(sess.run([W,b]))\n",
    "    print(ans)"
   ]
  },
  {
   "cell_type": "code",
   "execution_count": null,
   "metadata": {
    "collapsed": true
   },
   "outputs": [],
   "source": []
  }
 ],
 "metadata": {
  "kernelspec": {
   "display_name": "Python 2",
   "language": "python",
   "name": "python2"
  },
  "language_info": {
   "codemirror_mode": {
    "name": "ipython",
    "version": 2
   },
   "file_extension": ".py",
   "mimetype": "text/x-python",
   "name": "python",
   "nbconvert_exporter": "python",
   "pygments_lexer": "ipython2",
   "version": "2.7.10"
  }
 },
 "nbformat": 4,
 "nbformat_minor": 0
}
