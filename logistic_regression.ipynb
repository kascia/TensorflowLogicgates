{
 "cells": [
  {
   "cell_type": "code",
   "execution_count": 2,
   "metadata": {
    "collapsed": true
   },
   "outputs": [],
   "source": [
    "import tensorflow as tf\n",
    "import numpy as np\n",
    "\n",
    "X = tf.placeholder(\"float\", [None,2]) \n",
    "Y = tf.placeholder(\"float\",[None,1])\n",
    "\n",
    "def init_weights(shape):\n",
    "    return tf.Variable(tf.random_normal(shape, stddev=0.01))\n",
    "\n",
    "def model(X, W, b):\n",
    "    return tf.sigmoid(tf.add(tf.matmul(X, W), b)) \n",
    "\n",
    "# Set model weights\n",
    "W = init_weights([2,1])\n",
    "b = init_weights([1])\n",
    "\n",
    "y_model = model(X, W, b)\n",
    "\n",
    "cost = tf.square(Y*tf.log(y_model)+ (1-Y)*tf.log(1-y_model)) \n",
    "\n",
    "pred = tf.add(tf.matmul(X, W), b) \n",
    "\n",
    "train_op = tf.train.GradientDescentOptimizer(0.01).minimize(cost) \n"
   ]
  },
  {
   "cell_type": "code",
   "execution_count": 3,
   "metadata": {
    "collapsed": true
   },
   "outputs": [],
   "source": [
    "trX = np.array([[0,0],[0,1],[1,0],[1,1]])\n",
    "trY_OR = np.array([[0],[1],[1],[1]])\n",
    "trY_AND = np.array([[0],[0],[0],[1]])\n",
    "trY_XNOR = np.array([[1],[0],[0],[1]])\n",
    "trY_NOR = np.array([[1],[0],[0],[0]])\n",
    "trY_NAND = np.array([[1],[1],[1],[0]])\n",
    "trY_XOR = np.array([[0],[1],[1],[0]])\n",
    "\n",
    "\n"
   ]
  },
  {
   "cell_type": "code",
   "execution_count": 4,
   "metadata": {
    "collapsed": false
   },
   "outputs": [
    {
     "name": "stdout",
     "output_type": "stream",
     "text": [
      "(4, 2)\n",
      "[array([[ 2.11612463],\n",
      "       [ 2.11422372]], dtype=float32), array([-0.763524], dtype=float32)]\n",
      "[[-0.763524  ]\n",
      " [ 1.35069966]\n",
      " [ 1.35260057]\n",
      " [ 3.46682453]]\n"
     ]
    }
   ],
   "source": [
    "# [0 1 1 1] \n",
    "with tf.Session() as sess:\n",
    "    tf.initialize_all_variables().run()\n",
    "    print(trX.shape)\n",
    "    for i in range(1000):\n",
    "        _,c = sess.run([train_op, cost], feed_dict={X: trX, Y: trY_OR})\n",
    "        ans = sess.run(pred, feed_dict={X:trX})\n",
    "    print(sess.run([W,b]))\n",
    "    print(ans)"
   ]
  },
  {
   "cell_type": "code",
   "execution_count": 7,
   "metadata": {
    "collapsed": false
   },
   "outputs": [
    {
     "name": "stdout",
     "output_type": "stream",
     "text": [
      "(4, 2)\n",
      "[array([[ 1.59153688],\n",
      "       [ 1.5917623 ]], dtype=float32), array([-2.50461578], dtype=float32)]\n",
      "[[-2.50461578]\n",
      " [-0.91285348]\n",
      " [-0.9130789 ]\n",
      " [ 0.67868328]]\n"
     ]
    }
   ],
   "source": [
    "# [0 0 0 1]\n",
    "with tf.Session() as sess:\n",
    "    tf.initialize_all_variables().run()\n",
    "    print(trX.shape)\n",
    "    for i in range(1000):\n",
    "        _,c = sess.run([train_op, cost], feed_dict={X: trX, Y: trY_AND})\n",
    "        ans = sess.run(pred, feed_dict={X:trX})\n",
    "    print(sess.run([W,b]))\n",
    "    print(ans)"
   ]
  },
  {
   "cell_type": "code",
   "execution_count": 14,
   "metadata": {
    "collapsed": false
   },
   "outputs": [
    {
     "name": "stdout",
     "output_type": "stream",
     "text": [
      "(4, 2)\n",
      "[array([[  1.61750340e-05],\n",
      "       [  8.43698399e-06]], dtype=float32), array([ -1.46142602e-05], dtype=float32)]\n",
      "[[ -1.46142602e-05]\n",
      " [ -6.17727619e-06]\n",
      " [  1.56077385e-06]\n",
      " [  9.99775784e-06]]\n"
     ]
    }
   ],
   "source": [
    "# [0 1 1 0]\n",
    "with tf.Session() as sess:\n",
    "    tf.initialize_all_variables().run()\n",
    "    print(trX.shape)\n",
    "    for i in range(1000):\n",
    "        _,c = sess.run([train_op, cost], feed_dict={X: trX, Y: trY_XOR})\n",
    "        ans = sess.run(pred, feed_dict={X:trX})\n",
    "    print(sess.run([W,b]))\n",
    "    print(ans)"
   ]
  },
  {
   "cell_type": "code",
   "execution_count": 18,
   "metadata": {
    "collapsed": false
   },
   "outputs": [
    {
     "name": "stdout",
     "output_type": "stream",
     "text": [
      "(4, 2)\n",
      "[array([[  9.41407325e-06],\n",
      "       [  7.02774287e-06]], dtype=float32), array([ -9.72456382e-06], dtype=float32)]\n",
      "[[ -9.72456382e-06]\n",
      " [ -2.69682096e-06]\n",
      " [ -3.10490577e-07]\n",
      " [  6.71725229e-06]]\n"
     ]
    }
   ],
   "source": [
    "# [1 0 0 1]\n",
    "with tf.Session() as sess:\n",
    "    tf.initialize_all_variables().run()\n",
    "    print(trX.shape)\n",
    "    for i in range(1000):\n",
    "        _,c = sess.run([train_op, cost], feed_dict={X: trX, Y: trY_XNOR})\n",
    "        ans = sess.run(pred, feed_dict={X:trX})\n",
    "    print(sess.run([W,b]))\n",
    "    print(ans)"
   ]
  },
  {
   "cell_type": "code",
   "execution_count": 19,
   "metadata": {
    "collapsed": false
   },
   "outputs": [
    {
     "name": "stdout",
     "output_type": "stream",
     "text": [
      "(4, 2)\n",
      "[array([[-1.59169388],\n",
      "       [-1.59154916]], dtype=float32), array([ 2.5045743], dtype=float32)]\n",
      "[[ 2.5045743 ]\n",
      " [ 0.91302514]\n",
      " [ 0.91288042]\n",
      " [-0.67866874]]\n"
     ]
    }
   ],
   "source": [
    "# [1 0 0 0]\n",
    "with tf.Session() as sess:\n",
    "    tf.initialize_all_variables().run()\n",
    "    print(trX.shape)\n",
    "    for i in range(1000):\n",
    "        _,c = sess.run([train_op, cost], feed_dict={X: trX, Y: trY_NAND})\n",
    "        ans = sess.run(pred, feed_dict={X:trX})\n",
    "    print(sess.run([W,b]))\n",
    "    print(ans)"
   ]
  },
  {
   "cell_type": "code",
   "execution_count": 24,
   "metadata": {
    "collapsed": false
   },
   "outputs": [
    {
     "name": "stdout",
     "output_type": "stream",
     "text": [
      "(4, 2)\n",
      "[array([[-2.11868954],\n",
      "       [-2.11856294]], dtype=float32), array([ 0.76538628], dtype=float32)]\n",
      "[[ 0.76538628]\n",
      " [-1.35317659]\n",
      " [-1.35330319]\n",
      " [-3.47186589]]\n"
     ]
    }
   ],
   "source": [
    "# [1 1 1 0]\n",
    "with tf.Session() as sess:\n",
    "    tf.initialize_all_variables().run()\n",
    "    print(trX.shape)\n",
    "    for i in range(1000):\n",
    "        _,c = sess.run([train_op, cost], feed_dict={X: trX, Y: trY_NOR})\n",
    "        ans = sess.run(pred, feed_dict={X:trX})\n",
    "    print(sess.run([W,b]))\n",
    "    print(ans)"
   ]
  },
  {
   "cell_type": "code",
   "execution_count": null,
   "metadata": {
    "collapsed": true
   },
   "outputs": [],
   "source": []
  }
 ],
 "metadata": {
  "kernelspec": {
   "display_name": "Python 2",
   "language": "python",
   "name": "python2"
  },
  "language_info": {
   "codemirror_mode": {
    "name": "ipython",
    "version": 2
   },
   "file_extension": ".py",
   "mimetype": "text/x-python",
   "name": "python",
   "nbconvert_exporter": "python",
   "pygments_lexer": "ipython2",
   "version": "2.7.10"
  }
 },
 "nbformat": 4,
 "nbformat_minor": 0
}
